{
 "cells": [
  {
   "cell_type": "code",
   "execution_count": 2,
   "metadata": {},
   "outputs": [
    {
     "name": "stdout",
     "output_type": "stream",
     "text": [
      "[]\n",
      "{'id': 2, 'task': 'Deploy FastAPI', 'completed': False}\n"
     ]
    }
   ],
   "source": [
    "import requests\n",
    "\n",
    "# Test GET request\n",
    "response = requests.get(\"http://127.0.0.1:8000/todos/\")\n",
    "print(response.json())\n",
    "\n",
    "# Test POST request\n",
    "new_todo = {\"id\": 2, \"task\": \"Deploy FastAPI\", \"completed\": False}\n",
    "response = requests.post(\"http://127.0.0.1:8000/todos/\", json=new_todo)\n",
    "print(response.json())"
   ]
  }
 ],
 "metadata": {
  "kernelspec": {
   "display_name": ".venv",
   "language": "python",
   "name": "python3"
  },
  "language_info": {
   "codemirror_mode": {
    "name": "ipython",
    "version": 3
   },
   "file_extension": ".py",
   "mimetype": "text/x-python",
   "name": "python",
   "nbconvert_exporter": "python",
   "pygments_lexer": "ipython3",
   "version": "3.11.1"
  }
 },
 "nbformat": 4,
 "nbformat_minor": 2
}
